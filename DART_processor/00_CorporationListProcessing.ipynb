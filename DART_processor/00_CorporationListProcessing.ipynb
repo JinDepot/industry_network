{
 "cells": [
  {
   "cell_type": "code",
   "execution_count": 10,
   "metadata": {},
   "outputs": [],
   "source": [
    "import numpy as np\n",
    "import pandas as pd\n",
    "import os\n",
    "#from pandas.io.data import DataReader"
   ]
  },
  {
   "cell_type": "markdown",
   "metadata": {},
   "source": [
    "#### 파일 불러오기"
   ]
  },
  {
   "cell_type": "code",
   "execution_count": 11,
   "metadata": {},
   "outputs": [],
   "source": [
    "data_dir = 'D:/Dropbox/Projects/CRAWLER/disclosure_downloader/'"
   ]
  },
  {
   "cell_type": "code",
   "execution_count": 12,
   "metadata": {},
   "outputs": [],
   "source": [
    "def openFile(market_type='KOSDAQ'):\n",
    "    global krx, kind, codes\n",
    "    krx = pd.read_excel(os.path.join(data_dir,market_type + '_KRX.xls'))\n",
    "    kind = pd.read_csv(os.path.join(data_dir,market_type + '_KIND.csv',encoding='euc-kr'))\n",
    "    krx = krx[krx.columns[1:-4]]\n",
    "    \n",
    "    cs_krx = set(list(krx['종목코드']))\n",
    "    cs_kind = set(list(kind['종목코드']))\n",
    "    \n",
    "    #row 갯수(회사 수)가 같은지 확인\n",
    "    if len(krx) != len(kind):\n",
    "        print('# of rows : KRX data and KIND data have different number of rows!!')\n",
    "        return\n",
    "    else:\n",
    "        print('# of rows : Confirmed')\n",
    "    #code 종류(속한 회사)가 같은지 확인\n",
    "    if cs_krx != cs_kind:\n",
    "        print('There are some problems in corporation codes!')\n",
    "        return\n",
    "    else:\n",
    "        print('Corporation codes : Confirmed')\n",
    "    \n",
    "    krx = krx.sort(columns='기업명')\n",
    "    krx = krx.reset_index(drop=True)\n",
    "    kind = kind.sort(columns='회사명')\n",
    "    kind = kind.reset_index(drop=True)\n",
    "    \n",
    "    if list(kind['회사명']) != list(krx['기업명']):\n",
    "        print('There are some problems in corporation list!')\n",
    "        return\n",
    "    else:\n",
    "        print('Corporation list : Confirmed\\n')\n",
    "        print('=========')\n",
    "        print('Completed')\n",
    "        print('=========')\n",
    "        codes = ['0'*(6-len(str(c))) + str(c) for c in list(krx['종목코드'])]\n",
    "    return"
   ]
  },
  {
   "cell_type": "code",
   "execution_count": 13,
   "metadata": {},
   "outputs": [
    {
     "ename": "FileNotFoundError",
     "evalue": "[Errno 2] No such file or directory: 'D:/Dropbox/Projects/CRAWLER/disclosure_downloader/KOSDAQ_KRX.xls'",
     "output_type": "error",
     "traceback": [
      "\u001b[1;31m---------------------------------------------------------------------------\u001b[0m",
      "\u001b[1;31mFileNotFoundError\u001b[0m                         Traceback (most recent call last)",
      "\u001b[1;32m<ipython-input-13-c829b2b61f4d>\u001b[0m in \u001b[0;36m<module>\u001b[1;34m\u001b[0m\n\u001b[1;32m----> 1\u001b[1;33m \u001b[0mopenFile\u001b[0m\u001b[1;33m(\u001b[0m\u001b[1;33m)\u001b[0m\u001b[1;33m\u001b[0m\u001b[1;33m\u001b[0m\u001b[0m\n\u001b[0m",
      "\u001b[1;32m<ipython-input-12-85edc0bac756>\u001b[0m in \u001b[0;36mopenFile\u001b[1;34m(market_type)\u001b[0m\n\u001b[0;32m      1\u001b[0m \u001b[1;32mdef\u001b[0m \u001b[0mopenFile\u001b[0m\u001b[1;33m(\u001b[0m\u001b[0mmarket_type\u001b[0m\u001b[1;33m=\u001b[0m\u001b[1;34m'KOSDAQ'\u001b[0m\u001b[1;33m)\u001b[0m\u001b[1;33m:\u001b[0m\u001b[1;33m\u001b[0m\u001b[1;33m\u001b[0m\u001b[0m\n\u001b[0;32m      2\u001b[0m     \u001b[1;32mglobal\u001b[0m \u001b[0mkrx\u001b[0m\u001b[1;33m,\u001b[0m \u001b[0mkind\u001b[0m\u001b[1;33m,\u001b[0m \u001b[0mcodes\u001b[0m\u001b[1;33m\u001b[0m\u001b[1;33m\u001b[0m\u001b[0m\n\u001b[1;32m----> 3\u001b[1;33m     \u001b[0mkrx\u001b[0m \u001b[1;33m=\u001b[0m \u001b[0mpd\u001b[0m\u001b[1;33m.\u001b[0m\u001b[0mread_excel\u001b[0m\u001b[1;33m(\u001b[0m\u001b[0mos\u001b[0m\u001b[1;33m.\u001b[0m\u001b[0mpath\u001b[0m\u001b[1;33m.\u001b[0m\u001b[0mjoin\u001b[0m\u001b[1;33m(\u001b[0m\u001b[0mdata_dir\u001b[0m\u001b[1;33m,\u001b[0m\u001b[0mmarket_type\u001b[0m \u001b[1;33m+\u001b[0m \u001b[1;34m'_KRX.xls'\u001b[0m\u001b[1;33m)\u001b[0m\u001b[1;33m)\u001b[0m\u001b[1;33m\u001b[0m\u001b[1;33m\u001b[0m\u001b[0m\n\u001b[0m\u001b[0;32m      4\u001b[0m     \u001b[0mkind\u001b[0m \u001b[1;33m=\u001b[0m \u001b[0mpd\u001b[0m\u001b[1;33m.\u001b[0m\u001b[0mread_csv\u001b[0m\u001b[1;33m(\u001b[0m\u001b[0mos\u001b[0m\u001b[1;33m.\u001b[0m\u001b[0mpath\u001b[0m\u001b[1;33m.\u001b[0m\u001b[0mjoin\u001b[0m\u001b[1;33m(\u001b[0m\u001b[0mdata_dir\u001b[0m\u001b[1;33m,\u001b[0m\u001b[0mmarket_type\u001b[0m \u001b[1;33m+\u001b[0m \u001b[1;34m'_KIND.csv'\u001b[0m\u001b[1;33m,\u001b[0m\u001b[0mencoding\u001b[0m\u001b[1;33m=\u001b[0m\u001b[1;34m'euc-kr'\u001b[0m\u001b[1;33m)\u001b[0m\u001b[1;33m)\u001b[0m\u001b[1;33m\u001b[0m\u001b[1;33m\u001b[0m\u001b[0m\n\u001b[0;32m      5\u001b[0m     \u001b[0mkrx\u001b[0m \u001b[1;33m=\u001b[0m \u001b[0mkrx\u001b[0m\u001b[1;33m[\u001b[0m\u001b[0mkrx\u001b[0m\u001b[1;33m.\u001b[0m\u001b[0mcolumns\u001b[0m\u001b[1;33m[\u001b[0m\u001b[1;36m1\u001b[0m\u001b[1;33m:\u001b[0m\u001b[1;33m-\u001b[0m\u001b[1;36m4\u001b[0m\u001b[1;33m]\u001b[0m\u001b[1;33m]\u001b[0m\u001b[1;33m\u001b[0m\u001b[1;33m\u001b[0m\u001b[0m\n",
      "\u001b[1;32mC:\\ProgramData\\Anaconda3\\lib\\site-packages\\pandas\\io\\excel\\_base.py\u001b[0m in \u001b[0;36mread_excel\u001b[1;34m(io, sheet_name, header, names, index_col, usecols, squeeze, dtype, engine, converters, true_values, false_values, skiprows, nrows, na_values, keep_default_na, verbose, parse_dates, date_parser, thousands, comment, skipfooter, convert_float, mangle_dupe_cols, **kwds)\u001b[0m\n\u001b[0;32m    302\u001b[0m \u001b[1;33m\u001b[0m\u001b[0m\n\u001b[0;32m    303\u001b[0m     \u001b[1;32mif\u001b[0m \u001b[1;32mnot\u001b[0m \u001b[0misinstance\u001b[0m\u001b[1;33m(\u001b[0m\u001b[0mio\u001b[0m\u001b[1;33m,\u001b[0m \u001b[0mExcelFile\u001b[0m\u001b[1;33m)\u001b[0m\u001b[1;33m:\u001b[0m\u001b[1;33m\u001b[0m\u001b[1;33m\u001b[0m\u001b[0m\n\u001b[1;32m--> 304\u001b[1;33m         \u001b[0mio\u001b[0m \u001b[1;33m=\u001b[0m \u001b[0mExcelFile\u001b[0m\u001b[1;33m(\u001b[0m\u001b[0mio\u001b[0m\u001b[1;33m,\u001b[0m \u001b[0mengine\u001b[0m\u001b[1;33m=\u001b[0m\u001b[0mengine\u001b[0m\u001b[1;33m)\u001b[0m\u001b[1;33m\u001b[0m\u001b[1;33m\u001b[0m\u001b[0m\n\u001b[0m\u001b[0;32m    305\u001b[0m     \u001b[1;32melif\u001b[0m \u001b[0mengine\u001b[0m \u001b[1;32mand\u001b[0m \u001b[0mengine\u001b[0m \u001b[1;33m!=\u001b[0m \u001b[0mio\u001b[0m\u001b[1;33m.\u001b[0m\u001b[0mengine\u001b[0m\u001b[1;33m:\u001b[0m\u001b[1;33m\u001b[0m\u001b[1;33m\u001b[0m\u001b[0m\n\u001b[0;32m    306\u001b[0m         raise ValueError(\n",
      "\u001b[1;32mC:\\ProgramData\\Anaconda3\\lib\\site-packages\\pandas\\io\\excel\\_base.py\u001b[0m in \u001b[0;36m__init__\u001b[1;34m(self, io, engine)\u001b[0m\n\u001b[0;32m    819\u001b[0m         \u001b[0mself\u001b[0m\u001b[1;33m.\u001b[0m\u001b[0m_io\u001b[0m \u001b[1;33m=\u001b[0m \u001b[0mstringify_path\u001b[0m\u001b[1;33m(\u001b[0m\u001b[0mio\u001b[0m\u001b[1;33m)\u001b[0m\u001b[1;33m\u001b[0m\u001b[1;33m\u001b[0m\u001b[0m\n\u001b[0;32m    820\u001b[0m \u001b[1;33m\u001b[0m\u001b[0m\n\u001b[1;32m--> 821\u001b[1;33m         \u001b[0mself\u001b[0m\u001b[1;33m.\u001b[0m\u001b[0m_reader\u001b[0m \u001b[1;33m=\u001b[0m \u001b[0mself\u001b[0m\u001b[1;33m.\u001b[0m\u001b[0m_engines\u001b[0m\u001b[1;33m[\u001b[0m\u001b[0mengine\u001b[0m\u001b[1;33m]\u001b[0m\u001b[1;33m(\u001b[0m\u001b[0mself\u001b[0m\u001b[1;33m.\u001b[0m\u001b[0m_io\u001b[0m\u001b[1;33m)\u001b[0m\u001b[1;33m\u001b[0m\u001b[1;33m\u001b[0m\u001b[0m\n\u001b[0m\u001b[0;32m    822\u001b[0m \u001b[1;33m\u001b[0m\u001b[0m\n\u001b[0;32m    823\u001b[0m     \u001b[1;32mdef\u001b[0m \u001b[0m__fspath__\u001b[0m\u001b[1;33m(\u001b[0m\u001b[0mself\u001b[0m\u001b[1;33m)\u001b[0m\u001b[1;33m:\u001b[0m\u001b[1;33m\u001b[0m\u001b[1;33m\u001b[0m\u001b[0m\n",
      "\u001b[1;32mC:\\ProgramData\\Anaconda3\\lib\\site-packages\\pandas\\io\\excel\\_xlrd.py\u001b[0m in \u001b[0;36m__init__\u001b[1;34m(self, filepath_or_buffer)\u001b[0m\n\u001b[0;32m     19\u001b[0m         \u001b[0merr_msg\u001b[0m \u001b[1;33m=\u001b[0m \u001b[1;34m\"Install xlrd >= 1.0.0 for Excel support\"\u001b[0m\u001b[1;33m\u001b[0m\u001b[1;33m\u001b[0m\u001b[0m\n\u001b[0;32m     20\u001b[0m         \u001b[0mimport_optional_dependency\u001b[0m\u001b[1;33m(\u001b[0m\u001b[1;34m\"xlrd\"\u001b[0m\u001b[1;33m,\u001b[0m \u001b[0mextra\u001b[0m\u001b[1;33m=\u001b[0m\u001b[0merr_msg\u001b[0m\u001b[1;33m)\u001b[0m\u001b[1;33m\u001b[0m\u001b[1;33m\u001b[0m\u001b[0m\n\u001b[1;32m---> 21\u001b[1;33m         \u001b[0msuper\u001b[0m\u001b[1;33m(\u001b[0m\u001b[1;33m)\u001b[0m\u001b[1;33m.\u001b[0m\u001b[0m__init__\u001b[0m\u001b[1;33m(\u001b[0m\u001b[0mfilepath_or_buffer\u001b[0m\u001b[1;33m)\u001b[0m\u001b[1;33m\u001b[0m\u001b[1;33m\u001b[0m\u001b[0m\n\u001b[0m\u001b[0;32m     22\u001b[0m \u001b[1;33m\u001b[0m\u001b[0m\n\u001b[0;32m     23\u001b[0m     \u001b[1;33m@\u001b[0m\u001b[0mproperty\u001b[0m\u001b[1;33m\u001b[0m\u001b[1;33m\u001b[0m\u001b[0m\n",
      "\u001b[1;32mC:\\ProgramData\\Anaconda3\\lib\\site-packages\\pandas\\io\\excel\\_base.py\u001b[0m in \u001b[0;36m__init__\u001b[1;34m(self, filepath_or_buffer)\u001b[0m\n\u001b[0;32m    351\u001b[0m             \u001b[0mself\u001b[0m\u001b[1;33m.\u001b[0m\u001b[0mbook\u001b[0m \u001b[1;33m=\u001b[0m \u001b[0mself\u001b[0m\u001b[1;33m.\u001b[0m\u001b[0mload_workbook\u001b[0m\u001b[1;33m(\u001b[0m\u001b[0mfilepath_or_buffer\u001b[0m\u001b[1;33m)\u001b[0m\u001b[1;33m\u001b[0m\u001b[1;33m\u001b[0m\u001b[0m\n\u001b[0;32m    352\u001b[0m         \u001b[1;32melif\u001b[0m \u001b[0misinstance\u001b[0m\u001b[1;33m(\u001b[0m\u001b[0mfilepath_or_buffer\u001b[0m\u001b[1;33m,\u001b[0m \u001b[0mstr\u001b[0m\u001b[1;33m)\u001b[0m\u001b[1;33m:\u001b[0m\u001b[1;33m\u001b[0m\u001b[1;33m\u001b[0m\u001b[0m\n\u001b[1;32m--> 353\u001b[1;33m             \u001b[0mself\u001b[0m\u001b[1;33m.\u001b[0m\u001b[0mbook\u001b[0m \u001b[1;33m=\u001b[0m \u001b[0mself\u001b[0m\u001b[1;33m.\u001b[0m\u001b[0mload_workbook\u001b[0m\u001b[1;33m(\u001b[0m\u001b[0mfilepath_or_buffer\u001b[0m\u001b[1;33m)\u001b[0m\u001b[1;33m\u001b[0m\u001b[1;33m\u001b[0m\u001b[0m\n\u001b[0m\u001b[0;32m    354\u001b[0m         \u001b[1;32melif\u001b[0m \u001b[0misinstance\u001b[0m\u001b[1;33m(\u001b[0m\u001b[0mfilepath_or_buffer\u001b[0m\u001b[1;33m,\u001b[0m \u001b[0mbytes\u001b[0m\u001b[1;33m)\u001b[0m\u001b[1;33m:\u001b[0m\u001b[1;33m\u001b[0m\u001b[1;33m\u001b[0m\u001b[0m\n\u001b[0;32m    355\u001b[0m             \u001b[0mself\u001b[0m\u001b[1;33m.\u001b[0m\u001b[0mbook\u001b[0m \u001b[1;33m=\u001b[0m \u001b[0mself\u001b[0m\u001b[1;33m.\u001b[0m\u001b[0mload_workbook\u001b[0m\u001b[1;33m(\u001b[0m\u001b[0mBytesIO\u001b[0m\u001b[1;33m(\u001b[0m\u001b[0mfilepath_or_buffer\u001b[0m\u001b[1;33m)\u001b[0m\u001b[1;33m)\u001b[0m\u001b[1;33m\u001b[0m\u001b[1;33m\u001b[0m\u001b[0m\n",
      "\u001b[1;32mC:\\ProgramData\\Anaconda3\\lib\\site-packages\\pandas\\io\\excel\\_xlrd.py\u001b[0m in \u001b[0;36mload_workbook\u001b[1;34m(self, filepath_or_buffer)\u001b[0m\n\u001b[0;32m     34\u001b[0m             \u001b[1;32mreturn\u001b[0m \u001b[0mopen_workbook\u001b[0m\u001b[1;33m(\u001b[0m\u001b[0mfile_contents\u001b[0m\u001b[1;33m=\u001b[0m\u001b[0mdata\u001b[0m\u001b[1;33m)\u001b[0m\u001b[1;33m\u001b[0m\u001b[1;33m\u001b[0m\u001b[0m\n\u001b[0;32m     35\u001b[0m         \u001b[1;32melse\u001b[0m\u001b[1;33m:\u001b[0m\u001b[1;33m\u001b[0m\u001b[1;33m\u001b[0m\u001b[0m\n\u001b[1;32m---> 36\u001b[1;33m             \u001b[1;32mreturn\u001b[0m \u001b[0mopen_workbook\u001b[0m\u001b[1;33m(\u001b[0m\u001b[0mfilepath_or_buffer\u001b[0m\u001b[1;33m)\u001b[0m\u001b[1;33m\u001b[0m\u001b[1;33m\u001b[0m\u001b[0m\n\u001b[0m\u001b[0;32m     37\u001b[0m \u001b[1;33m\u001b[0m\u001b[0m\n\u001b[0;32m     38\u001b[0m     \u001b[1;33m@\u001b[0m\u001b[0mproperty\u001b[0m\u001b[1;33m\u001b[0m\u001b[1;33m\u001b[0m\u001b[0m\n",
      "\u001b[1;32mC:\\ProgramData\\Anaconda3\\lib\\site-packages\\xlrd\\__init__.py\u001b[0m in \u001b[0;36mopen_workbook\u001b[1;34m(filename, logfile, verbosity, use_mmap, file_contents, encoding_override, formatting_info, on_demand, ragged_rows)\u001b[0m\n\u001b[0;32m    109\u001b[0m     \u001b[1;32melse\u001b[0m\u001b[1;33m:\u001b[0m\u001b[1;33m\u001b[0m\u001b[1;33m\u001b[0m\u001b[0m\n\u001b[0;32m    110\u001b[0m         \u001b[0mfilename\u001b[0m \u001b[1;33m=\u001b[0m \u001b[0mos\u001b[0m\u001b[1;33m.\u001b[0m\u001b[0mpath\u001b[0m\u001b[1;33m.\u001b[0m\u001b[0mexpanduser\u001b[0m\u001b[1;33m(\u001b[0m\u001b[0mfilename\u001b[0m\u001b[1;33m)\u001b[0m\u001b[1;33m\u001b[0m\u001b[1;33m\u001b[0m\u001b[0m\n\u001b[1;32m--> 111\u001b[1;33m         \u001b[1;32mwith\u001b[0m \u001b[0mopen\u001b[0m\u001b[1;33m(\u001b[0m\u001b[0mfilename\u001b[0m\u001b[1;33m,\u001b[0m \u001b[1;34m\"rb\"\u001b[0m\u001b[1;33m)\u001b[0m \u001b[1;32mas\u001b[0m \u001b[0mf\u001b[0m\u001b[1;33m:\u001b[0m\u001b[1;33m\u001b[0m\u001b[1;33m\u001b[0m\u001b[0m\n\u001b[0m\u001b[0;32m    112\u001b[0m             \u001b[0mpeek\u001b[0m \u001b[1;33m=\u001b[0m \u001b[0mf\u001b[0m\u001b[1;33m.\u001b[0m\u001b[0mread\u001b[0m\u001b[1;33m(\u001b[0m\u001b[0mpeeksz\u001b[0m\u001b[1;33m)\u001b[0m\u001b[1;33m\u001b[0m\u001b[1;33m\u001b[0m\u001b[0m\n\u001b[0;32m    113\u001b[0m     \u001b[1;32mif\u001b[0m \u001b[0mpeek\u001b[0m \u001b[1;33m==\u001b[0m \u001b[1;34mb\"PK\\x03\\x04\"\u001b[0m\u001b[1;33m:\u001b[0m \u001b[1;31m# a ZIP file\u001b[0m\u001b[1;33m\u001b[0m\u001b[1;33m\u001b[0m\u001b[0m\n",
      "\u001b[1;31mFileNotFoundError\u001b[0m: [Errno 2] No such file or directory: 'D:/Dropbox/Projects/CRAWLER/disclosure_downloader/KOSDAQ_KRX.xls'"
     ]
    }
   ],
   "source": [
    "openFile()"
   ]
  },
  {
   "cell_type": "code",
   "execution_count": 7,
   "metadata": {
    "collapsed": true
   },
   "outputs": [],
   "source": [
    "KOSPI_MarketCap = 'KOSPI_MarketCap_170102'"
   ]
  },
  {
   "cell_type": "code",
   "execution_count": 8,
   "metadata": {},
   "outputs": [],
   "source": [
    "cap = pd.read_csv(KOSPI_MarketCap+'.csv')\n",
    "cap = cap.loc[:,['종목코드', '종목명', '현재가','시가총액','상장주식수']]\n",
    "cap['현재가'] = [int(c.replace(',','')) for c in cap['현재가']]\n",
    "cap['시가총액'] = [int(c.replace(',','')) for c in cap['시가총액']]\n",
    "cap['상장주식수'] = [int(c.replace(',','')) for c in cap['상장주식수']]\n",
    "cap['종목코드'] = ['_' + c for c in cap['종목코드']]\n",
    "cap = cap.rename(columns={'현재가':'현재가_'+KOSPI_MarketCap.split('_')[-1]})"
   ]
  },
  {
   "cell_type": "code",
   "execution_count": 9,
   "metadata": {
    "collapsed": true
   },
   "outputs": [],
   "source": [
    "cap.to_csv(r'corporation_information_2016.csv', encoding='utf-8', index=False)"
   ]
  },
  {
   "cell_type": "code",
   "execution_count": 9,
   "metadata": {
    "collapsed": true
   },
   "outputs": [],
   "source": [
    "merged = pd.merge(krx, kind, on=['종목코드'])\n",
    "merged['종목코드'] = codes\n",
    "merged = merged.drop(['회사명', '업종_y', '상장주식수(주)', '자본금(원)'],1)\n",
    "merged = merged.rename(columns={'업종_x':'업종'})\n",
    "merged['업종'] = [n.replace(',', ' ') for n in list(merged['업종'])]\n",
    "merged['주요제품'] = [str(n).replace(',', ' ') for n in list(merged['주요제품'])]"
   ]
  },
  {
   "cell_type": "code",
   "execution_count": 10,
   "metadata": {
    "collapsed": true
   },
   "outputs": [],
   "source": [
    "merged = pd.merge(merged, cap, on=['종목코드'])\n",
    "merged['종목코드'] = ['_'+c for c in codes]"
   ]
  },
  {
   "cell_type": "code",
   "execution_count": 11,
   "metadata": {
    "collapsed": true
   },
   "outputs": [],
   "source": [
    "merged.to_csv(r'corporation_information.csv', encoding='utf-8', index=False)"
   ]
  },
  {
   "cell_type": "code",
   "execution_count": 12,
   "metadata": {},
   "outputs": [
    {
     "name": "stderr",
     "output_type": "stream",
     "text": [
      "C:\\ProgramData\\Anaconda3\\lib\\site-packages\\ipykernel\\__main__.py:1: FutureWarning: by argument to sort_index is deprecated, pls use .sort_values(by=...)\n",
      "  if __name__ == '__main__':\n"
     ]
    },
    {
     "data": {
      "text/html": [
       "<div>\n",
       "<table border=\"1\" class=\"dataframe\">\n",
       "  <thead>\n",
       "    <tr style=\"text-align: right;\">\n",
       "      <th></th>\n",
       "      <th>종목코드</th>\n",
       "      <th>기업명</th>\n",
       "      <th>업종코드</th>\n",
       "      <th>업종</th>\n",
       "      <th>주요제품</th>\n",
       "      <th>상장일</th>\n",
       "      <th>결산월</th>\n",
       "      <th>종목명</th>\n",
       "      <th>현재가_181120</th>\n",
       "      <th>시가총액</th>\n",
       "      <th>상장주식수</th>\n",
       "    </tr>\n",
       "  </thead>\n",
       "  <tbody>\n",
       "    <tr>\n",
       "      <th>798</th>\n",
       "      <td>_005930</td>\n",
       "      <td>삼성전자</td>\n",
       "      <td>32604</td>\n",
       "      <td>통신 및 방송 장비 제조업</td>\n",
       "      <td>IMT2000 서비스용 동기식 기지국 교환국장비 데이터단말기 동영상휴대폰 핵심칩 반...</td>\n",
       "      <td>1975-06-11</td>\n",
       "      <td>12월</td>\n",
       "      <td>삼성전자</td>\n",
       "      <td>42750</td>\n",
       "      <td>274426130925000</td>\n",
       "      <td>6419324700</td>\n",
       "    </tr>\n",
       "    <tr>\n",
       "      <th>169</th>\n",
       "      <td>_000660</td>\n",
       "      <td>SK하이닉스</td>\n",
       "      <td>32601</td>\n",
       "      <td>반도체 제조업</td>\n",
       "      <td>반도체 컴퓨터 통신기기 제조 도매</td>\n",
       "      <td>1996-12-26</td>\n",
       "      <td>12월</td>\n",
       "      <td>SK하이닉스</td>\n",
       "      <td>67600</td>\n",
       "      <td>49212959874000</td>\n",
       "      <td>728002365</td>\n",
       "    </tr>\n",
       "    <tr>\n",
       "      <th>935</th>\n",
       "      <td>_068270</td>\n",
       "      <td>셀트리온</td>\n",
       "      <td>32101</td>\n",
       "      <td>기초 의약물질 및 생물학적 제제 제조업</td>\n",
       "      <td>램시마  트룩시마  허쥬마</td>\n",
       "      <td>2018-02-09</td>\n",
       "      <td>12월</td>\n",
       "      <td>셀트리온</td>\n",
       "      <td>229000</td>\n",
       "      <td>28729454457000</td>\n",
       "      <td>125456133</td>\n",
       "    </tr>\n",
       "    <tr>\n",
       "      <th>109</th>\n",
       "      <td>_051910</td>\n",
       "      <td>LG화학</td>\n",
       "      <td>32001</td>\n",
       "      <td>기초 화학물질 제조업</td>\n",
       "      <td>유화/기능/합성수지 재생섬유소 산업재 리튬이온전지 평광판 PVC 제조 도매</td>\n",
       "      <td>2001-04-25</td>\n",
       "      <td>12월</td>\n",
       "      <td>LG화학</td>\n",
       "      <td>338000</td>\n",
       "      <td>23860211934000</td>\n",
       "      <td>70592343</td>\n",
       "    </tr>\n",
       "    <tr>\n",
       "      <th>168</th>\n",
       "      <td>_017670</td>\n",
       "      <td>SK텔레콤</td>\n",
       "      <td>106102</td>\n",
       "      <td>전기 통신업</td>\n",
       "      <td>이동전화 무선호출서비스 부가통신</td>\n",
       "      <td>1989-11-07</td>\n",
       "      <td>12월</td>\n",
       "      <td>SK텔레콤</td>\n",
       "      <td>284000</td>\n",
       "      <td>22931781924000</td>\n",
       "      <td>80745711</td>\n",
       "    </tr>\n",
       "    <tr>\n",
       "      <th>1922</th>\n",
       "      <td>_005490</td>\n",
       "      <td>포스코</td>\n",
       "      <td>32401</td>\n",
       "      <td>1차 철강 제조업</td>\n",
       "      <td>열연코일 냉연강판 후판 선재 스테인리스 제조</td>\n",
       "      <td>1988-06-10</td>\n",
       "      <td>12월</td>\n",
       "      <td>POSCO</td>\n",
       "      <td>257500</td>\n",
       "      <td>22450610012500</td>\n",
       "      <td>87186835</td>\n",
       "    </tr>\n",
       "    <tr>\n",
       "      <th>792</th>\n",
       "      <td>_207940</td>\n",
       "      <td>삼성바이오로직스</td>\n",
       "      <td>32101</td>\n",
       "      <td>기초 의약물질 및 생물학적 제제 제조업</td>\n",
       "      <td>바이오의약품</td>\n",
       "      <td>2016-11-10</td>\n",
       "      <td>12월</td>\n",
       "      <td>삼성바이오로직스</td>\n",
       "      <td>334500</td>\n",
       "      <td>22132192500000</td>\n",
       "      <td>66165000</td>\n",
       "    </tr>\n",
       "    <tr>\n",
       "      <th>2155</th>\n",
       "      <td>_005380</td>\n",
       "      <td>현대자동차</td>\n",
       "      <td>33001</td>\n",
       "      <td>자동차용 엔진 및 자동차 제조업</td>\n",
       "      <td>자동차(승용차 버스 트럭 특장차) 자동차부품 자동차전착도료 제조 차량정비사업</td>\n",
       "      <td>1974-06-28</td>\n",
       "      <td>12월</td>\n",
       "      <td>현대차</td>\n",
       "      <td>97400</td>\n",
       "      <td>20811281413800</td>\n",
       "      <td>213668187</td>\n",
       "    </tr>\n",
       "    <tr>\n",
       "      <th>1007</th>\n",
       "      <td>_055550</td>\n",
       "      <td>신한지주</td>\n",
       "      <td>116409</td>\n",
       "      <td>기타 금융업</td>\n",
       "      <td>금융지주회사</td>\n",
       "      <td>2001-09-10</td>\n",
       "      <td>12월</td>\n",
       "      <td>신한지주</td>\n",
       "      <td>42800</td>\n",
       "      <td>20295742323600</td>\n",
       "      <td>474199587</td>\n",
       "    </tr>\n",
       "    <tr>\n",
       "      <th>154</th>\n",
       "      <td>_034730</td>\n",
       "      <td>SK</td>\n",
       "      <td>116409</td>\n",
       "      <td>기타 금융업</td>\n",
       "      <td>지주회사  시스템통합(SI)  정보통신사업 관련 컨설팅 조사용역 정보통신기술 연구개...</td>\n",
       "      <td>2009-11-11</td>\n",
       "      <td>12월</td>\n",
       "      <td>SK</td>\n",
       "      <td>280000</td>\n",
       "      <td>19700883160000</td>\n",
       "      <td>70360297</td>\n",
       "    </tr>\n",
       "  </tbody>\n",
       "</table>\n",
       "</div>"
      ],
      "text/plain": [
       "         종목코드       기업명    업종코드                     업종  \\\n",
       "798   _005930      삼성전자   32604         통신 및 방송 장비 제조업   \n",
       "169   _000660    SK하이닉스   32601                반도체 제조업   \n",
       "935   _068270      셀트리온   32101  기초 의약물질 및 생물학적 제제 제조업   \n",
       "109   _051910      LG화학   32001            기초 화학물질 제조업   \n",
       "168   _017670     SK텔레콤  106102                 전기 통신업   \n",
       "1922  _005490       포스코   32401              1차 철강 제조업   \n",
       "792   _207940  삼성바이오로직스   32101  기초 의약물질 및 생물학적 제제 제조업   \n",
       "2155  _005380     현대자동차   33001      자동차용 엔진 및 자동차 제조업   \n",
       "1007  _055550      신한지주  116409                 기타 금융업   \n",
       "154   _034730        SK  116409                 기타 금융업   \n",
       "\n",
       "                                                   주요제품         상장일  결산월  \\\n",
       "798   IMT2000 서비스용 동기식 기지국 교환국장비 데이터단말기 동영상휴대폰 핵심칩 반...  1975-06-11  12월   \n",
       "169                                  반도체 컴퓨터 통신기기 제조 도매  1996-12-26  12월   \n",
       "935                                      램시마  트룩시마  허쥬마  2018-02-09  12월   \n",
       "109           유화/기능/합성수지 재생섬유소 산업재 리튬이온전지 평광판 PVC 제조 도매  2001-04-25  12월   \n",
       "168                                   이동전화 무선호출서비스 부가통신  1989-11-07  12월   \n",
       "1922                           열연코일 냉연강판 후판 선재 스테인리스 제조  1988-06-10  12월   \n",
       "792                                              바이오의약품  2016-11-10  12월   \n",
       "2155         자동차(승용차 버스 트럭 특장차) 자동차부품 자동차전착도료 제조 차량정비사업  1974-06-28  12월   \n",
       "1007                                             금융지주회사  2001-09-10  12월   \n",
       "154   지주회사  시스템통합(SI)  정보통신사업 관련 컨설팅 조사용역 정보통신기술 연구개...  2009-11-11  12월   \n",
       "\n",
       "           종목명  현재가_181120             시가총액       상장주식수  \n",
       "798       삼성전자       42750  274426130925000  6419324700  \n",
       "169     SK하이닉스       67600   49212959874000   728002365  \n",
       "935       셀트리온      229000   28729454457000   125456133  \n",
       "109       LG화학      338000   23860211934000    70592343  \n",
       "168      SK텔레콤      284000   22931781924000    80745711  \n",
       "1922     POSCO      257500   22450610012500    87186835  \n",
       "792   삼성바이오로직스      334500   22132192500000    66165000  \n",
       "2155       현대차       97400   20811281413800   213668187  \n",
       "1007      신한지주       42800   20295742323600   474199587  \n",
       "154         SK      280000   19700883160000    70360297  "
      ]
     },
     "execution_count": 12,
     "metadata": {},
     "output_type": "execute_result"
    }
   ],
   "source": [
    "merged.sort_index(axis=0,by='시가총액',ascending=False)[:10]"
   ]
  },
  {
   "cell_type": "code",
   "execution_count": null,
   "metadata": {
    "collapsed": true
   },
   "outputs": [],
   "source": []
  }
 ],
 "metadata": {
  "anaconda-cloud": {},
  "kernelspec": {
   "display_name": "Python 3",
   "language": "python",
   "name": "python3"
  },
  "language_info": {
   "codemirror_mode": {
    "name": "ipython",
    "version": 3
   },
   "file_extension": ".py",
   "mimetype": "text/x-python",
   "name": "python",
   "nbconvert_exporter": "python",
   "pygments_lexer": "ipython3",
   "version": "3.7.6"
  }
 },
 "nbformat": 4,
 "nbformat_minor": 2
}
