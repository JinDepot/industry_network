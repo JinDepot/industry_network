{
 "cells": [
  {
   "cell_type": "code",
   "execution_count": 1,
   "metadata": {},
   "outputs": [],
   "source": [
    "import urllib\n",
    "import pandas as pd\n",
    "from tqdm import tqdm\n",
    "import numpy as np\n",
    "import time"
   ]
  },
  {
   "cell_type": "code",
   "execution_count": 7,
   "metadata": {
    "collapsed": true
   },
   "outputs": [],
   "source": [
    "#links_df = pd.read_csv(r'latest_disclosures_KOSPI_160104.csv')\n",
    "links_df = pd.read_csv(r'latest_disclosures_KOSPI_170102.csv')"
   ]
  },
  {
   "cell_type": "code",
   "execution_count": 8,
   "metadata": {},
   "outputs": [
    {
     "data": {
      "text/html": [
       "<div>\n",
       "<style>\n",
       "    .dataframe thead tr:only-child th {\n",
       "        text-align: right;\n",
       "    }\n",
       "\n",
       "    .dataframe thead th {\n",
       "        text-align: left;\n",
       "    }\n",
       "\n",
       "    .dataframe tbody tr th {\n",
       "        vertical-align: top;\n",
       "    }\n",
       "</style>\n",
       "<table border=\"1\" class=\"dataframe\">\n",
       "  <thead>\n",
       "    <tr style=\"text-align: right;\">\n",
       "      <th></th>\n",
       "      <th>종목코드</th>\n",
       "      <th>기업명</th>\n",
       "      <th>보고서명</th>\n",
       "      <th>접수번호</th>\n",
       "      <th>접수일자</th>\n",
       "      <th>문서번호</th>\n",
       "      <th>보고서링크</th>\n",
       "      <th>재무제표링크</th>\n",
       "    </tr>\n",
       "  </thead>\n",
       "  <tbody>\n",
       "    <tr>\n",
       "      <th>0</th>\n",
       "      <td>_060310</td>\n",
       "      <td>3S</td>\n",
       "      <td>사업보고서 (2018.03)</td>\n",
       "      <td>20180628000160</td>\n",
       "      <td>20180628</td>\n",
       "      <td>6231042</td>\n",
       "      <td>http://dart.fss.or.kr/pdf/download/pdf.do?rcp_...</td>\n",
       "      <td>http://dart.fss.or.kr/pdf/download/excel.do?rc...</td>\n",
       "    </tr>\n",
       "    <tr>\n",
       "      <th>1</th>\n",
       "      <td>_095570</td>\n",
       "      <td>AJ네트웍스</td>\n",
       "      <td>사업보고서 (2017.12)</td>\n",
       "      <td>20180330003492</td>\n",
       "      <td>20180330</td>\n",
       "      <td>6040642</td>\n",
       "      <td>http://dart.fss.or.kr/pdf/download/pdf.do?rcp_...</td>\n",
       "      <td>http://dart.fss.or.kr/pdf/download/excel.do?rc...</td>\n",
       "    </tr>\n",
       "    <tr>\n",
       "      <th>2</th>\n",
       "      <td>_068400</td>\n",
       "      <td>AJ렌터카</td>\n",
       "      <td>사업보고서 (2017.12)</td>\n",
       "      <td>20180329000766</td>\n",
       "      <td>20180329</td>\n",
       "      <td>6025677</td>\n",
       "      <td>http://dart.fss.or.kr/pdf/download/pdf.do?rcp_...</td>\n",
       "      <td>http://dart.fss.or.kr/pdf/download/excel.do?rc...</td>\n",
       "    </tr>\n",
       "    <tr>\n",
       "      <th>3</th>\n",
       "      <td>_006840</td>\n",
       "      <td>AK홀딩스</td>\n",
       "      <td>사업보고서 (2017.12)</td>\n",
       "      <td>20180330002417</td>\n",
       "      <td>20180330</td>\n",
       "      <td>6036212</td>\n",
       "      <td>http://dart.fss.or.kr/pdf/download/pdf.do?rcp_...</td>\n",
       "      <td>http://dart.fss.or.kr/pdf/download/excel.do?rc...</td>\n",
       "    </tr>\n",
       "    <tr>\n",
       "      <th>4</th>\n",
       "      <td>_054620</td>\n",
       "      <td>AP시스템</td>\n",
       "      <td>사업보고서 (2017.12)</td>\n",
       "      <td>20180402004758</td>\n",
       "      <td>20180402</td>\n",
       "      <td>6059222</td>\n",
       "      <td>http://dart.fss.or.kr/pdf/download/pdf.do?rcp_...</td>\n",
       "      <td>http://dart.fss.or.kr/pdf/download/excel.do?rc...</td>\n",
       "    </tr>\n",
       "  </tbody>\n",
       "</table>\n",
       "</div>"
      ],
      "text/plain": [
       "      종목코드     기업명             보고서명            접수번호      접수일자     문서번호  \\\n",
       "0  _060310      3S  사업보고서 (2018.03)  20180628000160  20180628  6231042   \n",
       "1  _095570  AJ네트웍스  사업보고서 (2017.12)  20180330003492  20180330  6040642   \n",
       "2  _068400   AJ렌터카  사업보고서 (2017.12)  20180329000766  20180329  6025677   \n",
       "3  _006840   AK홀딩스  사업보고서 (2017.12)  20180330002417  20180330  6036212   \n",
       "4  _054620   AP시스템  사업보고서 (2017.12)  20180402004758  20180402  6059222   \n",
       "\n",
       "                                               보고서링크  \\\n",
       "0  http://dart.fss.or.kr/pdf/download/pdf.do?rcp_...   \n",
       "1  http://dart.fss.or.kr/pdf/download/pdf.do?rcp_...   \n",
       "2  http://dart.fss.or.kr/pdf/download/pdf.do?rcp_...   \n",
       "3  http://dart.fss.or.kr/pdf/download/pdf.do?rcp_...   \n",
       "4  http://dart.fss.or.kr/pdf/download/pdf.do?rcp_...   \n",
       "\n",
       "                                              재무제표링크  \n",
       "0  http://dart.fss.or.kr/pdf/download/excel.do?rc...  \n",
       "1  http://dart.fss.or.kr/pdf/download/excel.do?rc...  \n",
       "2  http://dart.fss.or.kr/pdf/download/excel.do?rc...  \n",
       "3  http://dart.fss.or.kr/pdf/download/excel.do?rc...  \n",
       "4  http://dart.fss.or.kr/pdf/download/excel.do?rc...  "
      ]
     },
     "execution_count": 8,
     "metadata": {},
     "output_type": "execute_result"
    }
   ],
   "source": [
    "links_df.head()"
   ]
  },
  {
   "cell_type": "code",
   "execution_count": 10,
   "metadata": {},
   "outputs": [
    {
     "name": "stderr",
     "output_type": "stream",
     "text": [
      "2119it [51:10,  1.45s/it]\n"
     ]
    }
   ],
   "source": [
    "for index, row in tqdm(links_df.iterrows()):\n",
    "    directory = './data/latestDisclosure_KOSPI/2016/'\n",
    "    url = row.보고서링크\n",
    "    name = 'KOSPI'+row.종목코드+'.pdf'\n",
    "    urllib.request.urlretrieve(url,directory+name)\n",
    "    time.sleep(np.random.randint(1,400)/200)"
   ]
  },
  {
   "cell_type": "code",
   "execution_count": 2,
   "metadata": {},
   "outputs": [],
   "source": [
    "url = 'https://www.amazon.com/SAMSUNG-50-Inch-Crystal-AU8000-Built/product-reviews/B08Z1RN7NP/ref=cm_cr_arp_d_paging_btm_next_2?ie=UTF8&reviewerType=all_reviews&pageNumber=2'"
   ]
  },
  {
   "cell_type": "code",
   "execution_count": null,
   "metadata": {},
   "outputs": [],
   "source": []
  }
 ],
 "metadata": {
  "kernelspec": {
   "display_name": "Python 3",
   "language": "python",
   "name": "python3"
  },
  "language_info": {
   "codemirror_mode": {
    "name": "ipython",
    "version": 3
   },
   "file_extension": ".py",
   "mimetype": "text/x-python",
   "name": "python",
   "nbconvert_exporter": "python",
   "pygments_lexer": "ipython3",
   "version": "3.7.6"
  }
 },
 "nbformat": 4,
 "nbformat_minor": 2
}
