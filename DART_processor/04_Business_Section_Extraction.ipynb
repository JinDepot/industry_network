{
 "cells": [
  {
   "cell_type": "code",
   "execution_count": 1,
   "metadata": {
    "collapsed": true
   },
   "outputs": [],
   "source": [
    "import numpy as np\n",
    "import pandas as pd\n",
    "import json\n",
    "import glob\n",
    "import re\n",
    "from tqdm import tqdm\n",
    "import time"
   ]
  },
  {
   "cell_type": "code",
   "execution_count": 2,
   "metadata": {
    "collapsed": true
   },
   "outputs": [],
   "source": [
    "disclosures = glob.glob('./DATA/DISCLOSURES/*.txt')\n",
    "corplist = pd.read_csv('./DATA/Corplist.csv')"
   ]
  },
  {
   "cell_type": "code",
   "execution_count": 3,
   "metadata": {
    "collapsed": true
   },
   "outputs": [],
   "source": [
    "def getBody(doc):\n",
    "    for element in doc:\n",
    "        if 'II. 사업의 내용' in element:\n",
    "            page1 = str(int(element.strip().split('.')[-1])-1)\n",
    "        if 'III. 재무에 관한 사항' in element:\n",
    "            page2 = str(int(element.strip().split('.')[-1])-1)\n",
    "            break\n",
    "\n",
    "    for element in doc:\n",
    "        if 'Page '+page1+'\\n' in element:\n",
    "            index1 = doc.index(element)\n",
    "        if 'Page '+str(int(page2)+1)+'\\n' in element:\n",
    "            index2 = doc.index(element)\n",
    "            break\n",
    "    body = doc[index1+1:index2]\n",
    "\n",
    "    for index, line in enumerate(reversed(body)):\n",
    "        if 'III. 재무에 관한 사항' in line:\n",
    "            break\n",
    "    \n",
    "    if index == len(body)-1:\n",
    "        return body        \n",
    "    \n",
    "    else:\n",
    "        index2 = len(body) - index\n",
    "        body = body[:index2-1]\n",
    "\n",
    "        for index, line in enumerate(body):\n",
    "            if 'II. 사업의 내용' in line:\n",
    "                break\n",
    "        body = body[index:]\n",
    "\n",
    "        return body"
   ]
  },
  {
   "cell_type": "code",
   "execution_count": 4,
   "metadata": {
    "collapsed": true
   },
   "outputs": [],
   "source": [
    "def clearing(body):\n",
    "    lenlist = [len(element) for element in body]\n",
    "    delidx = []\n",
    "    i=0\n",
    "    start = 0\n",
    "    end = 0\n",
    "    while(i<len(body)):\n",
    "        if  lenlist[i]==1:\n",
    "            start = i\n",
    "            end = i\n",
    "            while(lenlist[end]==1):\n",
    "                end+=1\n",
    "                if end==len(body):\n",
    "                    break\n",
    "            i = end\n",
    "            if (end-start)>1:\n",
    "                delidx.append((start,end))\n",
    "        else:\n",
    "            i+=1\n",
    "    delidx.reverse()\n",
    "\n",
    "    for element in delidx:\n",
    "        del body[element[0]:element[1]-1]\n",
    "    \n",
    "    return body"
   ]
  },
  {
   "cell_type": "code",
   "execution_count": 5,
   "metadata": {
    "collapsed": true
   },
   "outputs": [],
   "source": [
    "def deleteTable(body):\n",
    "    preserve = ['II.','1. ', '2. ', '3. ', '4. ', '5. ', '6. ', '7. ', '8. ', '9. ', '(1)', '(2)', '(3)', '(4)', '(5)',\n",
    "            '(6)', '(7)', '(8)', '(9)']\n",
    "    delete = []\n",
    "    for i in range(len(body)-2):\n",
    "        if body[i].strip()=='':\n",
    "            if body[i+2].strip()=='':\n",
    "                if body[i+1][:3] not in preserve:\n",
    "                    delete.append(i+1)\n",
    "    delete.reverse()\n",
    "    for index in delete:\n",
    "        del body[index]\n",
    "    body = clearing(body)\n",
    "    \n",
    "    return body"
   ]
  },
  {
   "cell_type": "code",
   "execution_count": 6,
   "metadata": {
    "collapsed": true
   },
   "outputs": [],
   "source": [
    "def deleteMeaningless(body):\n",
    "    delete = []\n",
    "    for i in range(len(body)-2):\n",
    "        if body[i].strip()=='':\n",
    "            if body[i+2].strip()=='':\n",
    "                delete.append(i+1)\n",
    "    delete.reverse()\n",
    "    for index in delete:\n",
    "        del body[index]\n",
    "    body = clearing(body)\n",
    "    \n",
    "    erase = []\n",
    "    for i in range(len(body)):\n",
    "        if len(body[i].split(' '))<=2:\n",
    "            erase.append(i)\n",
    "    erase.reverse()\n",
    "    for index in erase:\n",
    "        del body[index]\n",
    "    \n",
    "    return ' '.join(body)"
   ]
  },
  {
   "cell_type": "markdown",
   "metadata": {},
   "source": [
    "#### 'II. 사업의 내용' 텍스트 추출"
   ]
  },
  {
   "cell_type": "code",
   "execution_count": 8,
   "metadata": {},
   "outputs": [
    {
     "name": "stderr",
     "output_type": "stream",
     "text": [
      "760it [00:17, 43.64it/s]\n"
     ]
    }
   ],
   "source": [
    "for index, disclosure in tqdm(enumerate(disclosures)):\n",
    "    with open(disclosure) as f:\n",
    "        doc = f.readlines()\n",
    "        body = getBody(doc)\n",
    "        #body = clearing(body)\n",
    "        body = deleteTable(body)\n",
    "        body = '\\n'.join(body)\n",
    "        #body = deleteMeaningless(body)\n",
    "        body = body.replace('\\x0c','')\n",
    "        body = body.replace('\\n ','\\n')\n",
    "        body = body.replace('\\n\\n ','\\n')\n",
    "        body = body.replace('\\n\\n','\\n')\n",
    "        body = body.replace('\\n\\n\\n ','\\n')\n",
    "        body = body.replace('\\n\\n\\n','\\n')\n",
    "    with open(disclosure.replace('DISCLOSURES','DISCLOSURES_preprocessed'), 'w') as f:\n",
    "        f.write(body)"
   ]
  },
  {
   "cell_type": "code",
   "execution_count": 108,
   "metadata": {},
   "outputs": [
    {
     "name": "stderr",
     "output_type": "stream",
     "text": [
      "760it [00:12, 63.03it/s]\n"
     ]
    }
   ],
   "source": [
    "df = pd.DataFrame(columns=['Code','Name','Business Section'])\n",
    "for index, disclosure in tqdm(enumerate(disclosures)):\n",
    "    with open(disclosure) as f:\n",
    "        doc = f.readlines()\n",
    "        body = getBody(doc)\n",
    "        body = clearing(body)\n",
    "        body = deleteTable(body)\n",
    "        body = deleteMeaningless(body)\n",
    "        body = body.replace('\\x0c','')\n",
    "        body = body.replace('\\n ',' ')\n",
    "        body = body.replace('\\n',' ')\n",
    "        body = body.replace('II. 사업의 내용 ','')\n",
    "    code = 'A'+disclosure.split('_')[-1].split('.')[0]\n",
    "    name = corplist[corplist.Code == code].iloc[0].Name\n",
    "    df.loc[index] = [code, name, body]"
   ]
  },
  {
   "cell_type": "code",
   "execution_count": 112,
   "metadata": {
    "collapsed": true
   },
   "outputs": [],
   "source": [
    "df.to_csv(r'./DATA/extracted_business_section.csv', index=False, encoding='utf-8')"
   ]
  },
  {
   "cell_type": "code",
   "execution_count": null,
   "metadata": {
    "collapsed": true
   },
   "outputs": [],
   "source": []
  }
 ],
 "metadata": {
  "kernelspec": {
   "display_name": "Python 3 (ipykernel)",
   "language": "python",
   "name": "python3"
  },
  "language_info": {
   "codemirror_mode": {
    "name": "ipython",
    "version": 3
   },
   "file_extension": ".py",
   "mimetype": "text/x-python",
   "name": "python",
   "nbconvert_exporter": "python",
   "pygments_lexer": "ipython3",
   "version": "3.11.4"
  }
 },
 "nbformat": 4,
 "nbformat_minor": 2
}
