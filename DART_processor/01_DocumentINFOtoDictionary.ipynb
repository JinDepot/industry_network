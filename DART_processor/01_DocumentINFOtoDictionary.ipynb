{
 "cells": [
  {
   "cell_type": "code",
   "execution_count": 7,
   "metadata": {
    "collapsed": true
   },
   "outputs": [],
   "source": [
    "import pandas as pd\n",
    "import requests\n",
    "from bs4 import BeautifulSoup\n",
    "import numpy as np\n",
    "import traceback\n",
    "from tqdm import tqdm\n",
    "import time\n",
    "import json"
   ]
  },
  {
   "cell_type": "code",
   "execution_count": 8,
   "metadata": {
    "collapsed": true
   },
   "outputs": [],
   "source": [
    "corp_info = pd.read_csv(r'corporation_information_2016.csv')"
   ]
  },
  {
   "cell_type": "markdown",
   "metadata": {},
   "source": [
    "#### 보고서 종류별로 저장\n",
    "- dictionary(key : 종목명_종목코드, value : dictionary) 내의 dictionary(key : 보고서종류, value : dataframe)로 저장\n",
    "        <주요 보고서 코드>\n",
    "        http://dart.fss.or.kr/dsap001/guide.do\n",
    "        A001 : 사업보고서 | A002 : 반기보고서 | A003 : 분기보고서\n",
    "        B001 : 주요사항보고서 | C001 : 증권신고(지분증권) | C002 : 증권신고(채무증권)\n",
    "        F001 : 감사보고서 | F002 : 연결감사보고서 | F003 : 결합감사보고서\n",
    "        "
   ]
  },
  {
   "cell_type": "code",
   "execution_count": 9,
   "metadata": {
    "collapsed": true
   },
   "outputs": [],
   "source": [
    "bsn_tp= ['A001','A002','A003','A004','A005',\n",
    "         'B001','B002','B003',\n",
    "         'C001','C002','C003','C004','C005','C006','C007','C008','C009','C010','C011',\n",
    "         'D001','D002','D003','D004',\n",
    "         'E001','E002','E003','E004','E005','E006','E007','E008','E009',\n",
    "         'F001','F002','F003','F004',\n",
    "         'G001','G002','G003',\n",
    "         'H001','H002','H003','H004','H005','H006',\n",
    "         'I001','I002','I003','I004','I005','I006',\n",
    "         'G001','G002','G003','G004','G005','G006']"
   ]
  },
  {
   "cell_type": "code",
   "execution_count": 11,
   "metadata": {
    "collapsed": true
   },
   "outputs": [],
   "source": [
    "def constructDictionary():\n",
    "    storage = {}  # 종목명_종목코드를 key로 사용\n",
    "    for index, row in tqdm(corp_info.iterrows()):\n",
    "        storage[row.종목명 + row.종목코드] = {}\n",
    "    return storage"
   ]
  },
  {
   "cell_type": "code",
   "execution_count": 12,
   "metadata": {
    "collapsed": true
   },
   "outputs": [],
   "source": [
    "def getDocumentInfo(crp, doctp): # crp는 corp_keys에서, doctp는 bsn_tp에서 가져온다.\n",
    "    global doc_dict\n",
    "    \n",
    "    crp_cd = crp.split('_')[1]\n",
    "    auth_key = 'e7064f9e9e2e3bff1fa800140364719a0a33d9e8'\n",
    "    request_url = 'http://dart.fss.or.kr/api/search.xml?auth=' + auth_key + '&crp_cd=' + crp_cd + '&start_dt=19990101&bsn_tp=' + doctp + '&page_no=1&page_set=100'\n",
    "    \n",
    "    r = requests.post(request_url)\n",
    "    soup = BeautifulSoup(r.text,'lxml')\n",
    "    #보고서명\n",
    "    rpt_nm = soup.find_all('rpt_nm')\n",
    "    rpt_nm = [element.text for element in rpt_nm]\n",
    "    #접수번호\n",
    "    rcp_no = soup.find_all('rcp_no')\n",
    "    rcp_no = [element.text for element in rcp_no]\n",
    "    #접수일자\n",
    "    rcp_dt = soup.find_all('rcp_dt')\n",
    "    rcp_dt = [int(element.text) for element in rcp_dt]\n",
    "    \n",
    "    df = pd.DataFrame()\n",
    "    df['보고서명'] = rpt_nm\n",
    "    df['접수번호'] = rcp_no\n",
    "    df['접수일자'] = rcp_dt\n",
    "    \n",
    "    doc_dict[crp][doctp] = df\n",
    "    \n",
    "    return"
   ]
  },
  {
   "cell_type": "code",
   "execution_count": 13,
   "metadata": {
    "collapsed": false
   },
   "outputs": [
    {
     "name": "stderr",
     "output_type": "stream",
     "text": [
      "2247it [00:00, 8169.51it/s]\n"
     ]
    }
   ],
   "source": [
    "doc_dict = constructDictionary()\n",
    "corp_keys = list(doc_dict.keys())\n",
    "corp_keys.sort()"
   ]
  },
  {
   "cell_type": "code",
   "execution_count": 14,
   "metadata": {
    "collapsed": false
   },
   "outputs": [
    {
     "name": "stderr",
     "output_type": "stream",
     "text": [
      "  1%|          | 26/2247 [03:00<4:27:12,  7.22s/it]"
     ]
    },
    {
     "ename": "KeyboardInterrupt",
     "evalue": "",
     "output_type": "error",
     "traceback": [
      "\u001b[0;31m---------------------------------------------------------------------------\u001b[0m",
      "\u001b[0;31mKeyboardInterrupt\u001b[0m                         Traceback (most recent call last)",
      "\u001b[0;32m<ipython-input-14-f7504e7b1b0d>\u001b[0m in \u001b[0;36m<module>\u001b[0;34m()\u001b[0m\n\u001b[1;32m      2\u001b[0m     \u001b[0;32mfor\u001b[0m \u001b[0mtp\u001b[0m \u001b[0;32min\u001b[0m \u001b[0;34m[\u001b[0m\u001b[0;34m'A001'\u001b[0m\u001b[0;34m,\u001b[0m\u001b[0;34m'A002'\u001b[0m\u001b[0;34m,\u001b[0m\u001b[0;34m'A003'\u001b[0m\u001b[0;34m,\u001b[0m\u001b[0;34m'A004'\u001b[0m\u001b[0;34m,\u001b[0m\u001b[0;34m'A005'\u001b[0m\u001b[0;34m]\u001b[0m\u001b[0;34m:\u001b[0m\u001b[0;34m\u001b[0m\u001b[0m\n\u001b[1;32m      3\u001b[0m         \u001b[0mgetDocumentInfo\u001b[0m\u001b[0;34m(\u001b[0m\u001b[0mkey\u001b[0m\u001b[0;34m,\u001b[0m \u001b[0mtp\u001b[0m\u001b[0;34m)\u001b[0m\u001b[0;34m\u001b[0m\u001b[0m\n\u001b[0;32m----> 4\u001b[0;31m         \u001b[0mtime\u001b[0m\u001b[0;34m.\u001b[0m\u001b[0msleep\u001b[0m\u001b[0;34m(\u001b[0m\u001b[0mnp\u001b[0m\u001b[0;34m.\u001b[0m\u001b[0mrandom\u001b[0m\u001b[0;34m.\u001b[0m\u001b[0mrandint\u001b[0m\u001b[0;34m(\u001b[0m\u001b[0;36m1\u001b[0m\u001b[0;34m,\u001b[0m\u001b[0;36m1000\u001b[0m\u001b[0;34m)\u001b[0m\u001b[0;34m/\u001b[0m\u001b[0;36m500\u001b[0m\u001b[0;34m)\u001b[0m\u001b[0;34m\u001b[0m\u001b[0m\n\u001b[0m\u001b[1;32m      5\u001b[0m     \u001b[0mtime\u001b[0m\u001b[0;34m.\u001b[0m\u001b[0msleep\u001b[0m\u001b[0;34m(\u001b[0m\u001b[0mnp\u001b[0m\u001b[0;34m.\u001b[0m\u001b[0mrandom\u001b[0m\u001b[0;34m.\u001b[0m\u001b[0mrandint\u001b[0m\u001b[0;34m(\u001b[0m\u001b[0;36m1\u001b[0m\u001b[0;34m,\u001b[0m\u001b[0;36m1500\u001b[0m\u001b[0;34m)\u001b[0m\u001b[0;34m/\u001b[0m\u001b[0;36m500\u001b[0m\u001b[0;34m)\u001b[0m\u001b[0;34m\u001b[0m\u001b[0m\n",
      "\u001b[0;31mKeyboardInterrupt\u001b[0m: "
     ]
    }
   ],
   "source": [
    "for key in tqdm(corp_keys):\n",
    "    for tp in ['A001','A002','A003','A004','A005']:\n",
    "        getDocumentInfo(key, tp)\n",
    "        time.sleep(np.random.randint(1,1000)/500)\n",
    "    time.sleep(np.random.randint(1,1500)/500)"
   ]
  },
  {
   "cell_type": "markdown",
   "metadata": {},
   "source": [
    "### Dictionary를 Json파일로 저장"
   ]
  },
  {
   "cell_type": "code",
   "execution_count": 8,
   "metadata": {
    "collapsed": true
   },
   "outputs": [],
   "source": [
    "# http://stackoverflow.com/questions/33061302/dictionary-of-panda-dataframe-to-json\n",
    "# dataframe이 Key로 들어가있는 경우는 일반적인 경우와 다르게 dump해야 함.\n",
    "class JSONEncoder(json.JSONEncoder):\n",
    "    def default(self, obj):\n",
    "        if hasattr(obj, 'to_json'):\n",
    "            return obj.to_json(orient='records')\n",
    "        return json.JSONEncoder.default(self, obj)\n",
    "    \n",
    "with open('doc_info.json', 'w') as f:\n",
    "     json.dump(doc_dict, f, cls=JSONEncoder)"
   ]
  }
 ],
 "metadata": {
  "kernelspec": {
   "display_name": "Python 3",
   "language": "python",
   "name": "python3"
  },
  "language_info": {
   "codemirror_mode": {
    "name": "ipython",
    "version": 3
   },
   "file_extension": ".py",
   "mimetype": "text/x-python",
   "name": "python",
   "nbconvert_exporter": "python",
   "pygments_lexer": "ipython3",
   "version": "3.6.0"
  }
 },
 "nbformat": 4,
 "nbformat_minor": 2
}
