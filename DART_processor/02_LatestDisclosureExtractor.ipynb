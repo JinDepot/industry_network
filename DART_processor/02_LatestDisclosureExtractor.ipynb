{
 "cells": [
  {
   "cell_type": "code",
   "execution_count": 19,
   "metadata": {
    "collapsed": true
   },
   "outputs": [],
   "source": [
    "import pandas as pd\n",
    "import requests\n",
    "from bs4 import BeautifulSoup\n",
    "import numpy as np\n",
    "import traceback\n",
    "from tqdm import tqdm\n",
    "import time\n",
    "import json"
   ]
  },
  {
   "cell_type": "code",
   "execution_count": 37,
   "metadata": {
    "collapsed": true
   },
   "outputs": [],
   "source": [
    "corp_info = pd.read_csv(r'corporation_information_2016.csv')"
   ]
  },
  {
   "cell_type": "markdown",
   "metadata": {},
   "source": [
    "#### JSON File Dictionary로 불러오기 & key는 list로 불러오기"
   ]
  },
  {
   "cell_type": "code",
   "execution_count": 38,
   "metadata": {
    "collapsed": true
   },
   "outputs": [],
   "source": [
    "with open('doc_info.json', 'r') as f:\n",
    "     doc_dict = json.load(f)\n",
    "\n",
    "corp_keys = list(doc_dict.keys())\n",
    "corp_keys.sort()\n",
    "bsn_tp = list(doc_dict[corp_keys[0]].keys())\n",
    "bsn_tp.sort()"
   ]
  },
  {
   "cell_type": "markdown",
   "metadata": {},
   "source": [
    "### 최신 공시 추출"
   ]
  },
  {
   "cell_type": "code",
   "execution_count": 39,
   "metadata": {
    "collapsed": true
   },
   "outputs": [],
   "source": [
    "def latestDisclosures(report_type_list):\n",
    "    latest_disclosures = pd.DataFrame(columns=['종목코드', '기업명','보고서명','접수번호','접수일자'])\n",
    "    index = 0\n",
    "    for key in corp_keys:\n",
    "        df_list = [pd.read_json(doc_dict[key][tp]) for tp in report_type_list]\n",
    "        df = pd.concat(df_list, ignore_index=True)\n",
    "        # 비어있는 Dataframe은 일단 무시 (일일요청횟수추가로 다 수집이 안 되어있음)\n",
    "        if len(df) == 0:\n",
    "            continue\n",
    "        df = df.sort_values(by=['접수일자'], ascending=False)\n",
    "        df = df.reset_index(drop=True)\n",
    "        \n",
    "        for ix, rw in df.iterrows():\n",
    "            if '정정' in rw.보고서명 or '추가'  in rw.보고서명:\n",
    "                continue\n",
    "            else:\n",
    "                break\n",
    "        \n",
    "        종목코드 = '_'+key.split('_')[1]\n",
    "        기업명 = key.split('_')[0]\n",
    "        보고서명 = rw.보고서명\n",
    "        접수번호 = str(rw.접수번호)\n",
    "        접수일자 = rw.접수일자\n",
    "        \n",
    "        latest_disclosures.loc[index] = [종목코드, 기업명, 보고서명, 접수번호, 접수일자]\n",
    "        index += 1\n",
    "    \n",
    "    return latest_disclosures"
   ]
  },
  {
   "cell_type": "code",
   "execution_count": 40,
   "metadata": {
    "collapsed": true
   },
   "outputs": [],
   "source": [
    "def missingCorp(disclosure_df):\n",
    "    global corp_keys\n",
    "    \n",
    "    기업명 = list(disclosure_df.기업명)\n",
    "    종목코드 = list(disclosure_df.종목코드)\n",
    "    existing_keys = [c1+c2 for c1,c2 in zip(종목코드)]\n",
    "    \n",
    "    missing_corp = list(set(corp_keys) - set(existing_keys))\n",
    "    missing_corp.sort()\n",
    "    \n",
    "    return [c.split('_')[0] for c in missing_corp]"
   ]
  },
  {
   "cell_type": "code",
   "execution_count": 41,
   "metadata": {
    "collapsed": true
   },
   "outputs": [],
   "source": [
    "latest_disclosures = latestDisclosures(['A001'])"
   ]
  },
  {
   "cell_type": "markdown",
   "metadata": {},
   "source": [
    "#### 정기공시 없는 리스트"
   ]
  },
  {
   "cell_type": "code",
   "execution_count": 42,
   "metadata": {},
   "outputs": [
    {
     "ename": "ValueError",
     "evalue": "not enough values to unpack (expected 2, got 1)",
     "output_type": "error",
     "traceback": [
      "\u001b[0;31m---------------------------------------------------------------------------\u001b[0m",
      "\u001b[0;31mValueError\u001b[0m                                Traceback (most recent call last)",
      "\u001b[0;32m<ipython-input-42-b09f73c29695>\u001b[0m in \u001b[0;36m<module>\u001b[0;34m()\u001b[0m\n\u001b[0;32m----> 1\u001b[0;31m \u001b[0mcorp_info\u001b[0m\u001b[0;34m[\u001b[0m\u001b[0mcorp_info\u001b[0m\u001b[0;34m.\u001b[0m\u001b[0m종목명\u001b[0m\u001b[0;34m.\u001b[0m\u001b[0misin\u001b[0m\u001b[0;34m(\u001b[0m\u001b[0mmissingCorp\u001b[0m\u001b[0;34m(\u001b[0m\u001b[0mlatest_disclosures\u001b[0m\u001b[0;34m)\u001b[0m\u001b[0;34m)\u001b[0m\u001b[0;34m]\u001b[0m\u001b[0;34m\u001b[0m\u001b[0m\n\u001b[0m",
      "\u001b[0;32m<ipython-input-40-b2571bb6c4bc>\u001b[0m in \u001b[0;36mmissingCorp\u001b[0;34m(disclosure_df)\u001b[0m\n\u001b[1;32m      4\u001b[0m     \u001b[0m기업명\u001b[0m \u001b[0;34m=\u001b[0m \u001b[0mlist\u001b[0m\u001b[0;34m(\u001b[0m\u001b[0mdisclosure_df\u001b[0m\u001b[0;34m.\u001b[0m\u001b[0m기업명\u001b[0m\u001b[0;34m)\u001b[0m\u001b[0;34m\u001b[0m\u001b[0m\n\u001b[1;32m      5\u001b[0m     \u001b[0m종목코드\u001b[0m \u001b[0;34m=\u001b[0m \u001b[0mlist\u001b[0m\u001b[0;34m(\u001b[0m\u001b[0mdisclosure_df\u001b[0m\u001b[0;34m.\u001b[0m\u001b[0m종목코드\u001b[0m\u001b[0;34m)\u001b[0m\u001b[0;34m\u001b[0m\u001b[0m\n\u001b[0;32m----> 6\u001b[0;31m     \u001b[0mexisting_keys\u001b[0m \u001b[0;34m=\u001b[0m \u001b[0;34m[\u001b[0m\u001b[0mc1\u001b[0m\u001b[0;34m+\u001b[0m\u001b[0mc2\u001b[0m \u001b[0;32mfor\u001b[0m \u001b[0mc1\u001b[0m\u001b[0;34m,\u001b[0m\u001b[0mc2\u001b[0m \u001b[0;32min\u001b[0m \u001b[0mzip\u001b[0m\u001b[0;34m(\u001b[0m\u001b[0m종목코드\u001b[0m\u001b[0;34m)\u001b[0m\u001b[0;34m]\u001b[0m\u001b[0;34m\u001b[0m\u001b[0m\n\u001b[0m\u001b[1;32m      7\u001b[0m \u001b[0;34m\u001b[0m\u001b[0m\n\u001b[1;32m      8\u001b[0m     \u001b[0mmissing_corp\u001b[0m \u001b[0;34m=\u001b[0m \u001b[0mlist\u001b[0m\u001b[0;34m(\u001b[0m\u001b[0mset\u001b[0m\u001b[0;34m(\u001b[0m\u001b[0mcorp_keys\u001b[0m\u001b[0;34m)\u001b[0m \u001b[0;34m-\u001b[0m \u001b[0mset\u001b[0m\u001b[0;34m(\u001b[0m\u001b[0mexisting_keys\u001b[0m\u001b[0;34m)\u001b[0m\u001b[0;34m)\u001b[0m\u001b[0;34m\u001b[0m\u001b[0m\n",
      "\u001b[0;32m<ipython-input-40-b2571bb6c4bc>\u001b[0m in \u001b[0;36m<listcomp>\u001b[0;34m(.0)\u001b[0m\n\u001b[1;32m      4\u001b[0m     \u001b[0m기업명\u001b[0m \u001b[0;34m=\u001b[0m \u001b[0mlist\u001b[0m\u001b[0;34m(\u001b[0m\u001b[0mdisclosure_df\u001b[0m\u001b[0;34m.\u001b[0m\u001b[0m기업명\u001b[0m\u001b[0;34m)\u001b[0m\u001b[0;34m\u001b[0m\u001b[0m\n\u001b[1;32m      5\u001b[0m     \u001b[0m종목코드\u001b[0m \u001b[0;34m=\u001b[0m \u001b[0mlist\u001b[0m\u001b[0;34m(\u001b[0m\u001b[0mdisclosure_df\u001b[0m\u001b[0;34m.\u001b[0m\u001b[0m종목코드\u001b[0m\u001b[0;34m)\u001b[0m\u001b[0;34m\u001b[0m\u001b[0m\n\u001b[0;32m----> 6\u001b[0;31m     \u001b[0mexisting_keys\u001b[0m \u001b[0;34m=\u001b[0m \u001b[0;34m[\u001b[0m\u001b[0mc1\u001b[0m\u001b[0;34m+\u001b[0m\u001b[0mc2\u001b[0m \u001b[0;32mfor\u001b[0m \u001b[0mc1\u001b[0m\u001b[0;34m,\u001b[0m\u001b[0mc2\u001b[0m \u001b[0;32min\u001b[0m \u001b[0mzip\u001b[0m\u001b[0;34m(\u001b[0m\u001b[0m종목코드\u001b[0m\u001b[0;34m)\u001b[0m\u001b[0;34m]\u001b[0m\u001b[0;34m\u001b[0m\u001b[0m\n\u001b[0m\u001b[1;32m      7\u001b[0m \u001b[0;34m\u001b[0m\u001b[0m\n\u001b[1;32m      8\u001b[0m     \u001b[0mmissing_corp\u001b[0m \u001b[0;34m=\u001b[0m \u001b[0mlist\u001b[0m\u001b[0;34m(\u001b[0m\u001b[0mset\u001b[0m\u001b[0;34m(\u001b[0m\u001b[0mcorp_keys\u001b[0m\u001b[0;34m)\u001b[0m \u001b[0;34m-\u001b[0m \u001b[0mset\u001b[0m\u001b[0;34m(\u001b[0m\u001b[0mexisting_keys\u001b[0m\u001b[0;34m)\u001b[0m\u001b[0;34m)\u001b[0m\u001b[0;34m\u001b[0m\u001b[0m\n",
      "\u001b[0;31mValueError\u001b[0m: not enough values to unpack (expected 2, got 1)"
     ]
    }
   ],
   "source": [
    "corp_info[corp_info.종목명.isin(missingCorp(latest_disclosures))]"
   ]
  },
  {
   "cell_type": "markdown",
   "metadata": {},
   "source": [
    "### Download Link Column으로 추가"
   ]
  },
  {
   "cell_type": "code",
   "execution_count": 44,
   "metadata": {},
   "outputs": [
    {
     "data": {
      "text/html": [
       "<div>\n",
       "<style>\n",
       "    .dataframe thead tr:only-child th {\n",
       "        text-align: right;\n",
       "    }\n",
       "\n",
       "    .dataframe thead th {\n",
       "        text-align: left;\n",
       "    }\n",
       "\n",
       "    .dataframe tbody tr th {\n",
       "        vertical-align: top;\n",
       "    }\n",
       "</style>\n",
       "<table border=\"1\" class=\"dataframe\">\n",
       "  <thead>\n",
       "    <tr style=\"text-align: right;\">\n",
       "      <th></th>\n",
       "      <th>종목코드</th>\n",
       "      <th>기업명</th>\n",
       "      <th>보고서명</th>\n",
       "      <th>접수번호</th>\n",
       "      <th>접수일자</th>\n",
       "    </tr>\n",
       "  </thead>\n",
       "  <tbody>\n",
       "    <tr>\n",
       "      <th>0</th>\n",
       "      <td>_060310</td>\n",
       "      <td>3S</td>\n",
       "      <td>사업보고서 (2018.03)</td>\n",
       "      <td>20180628000160</td>\n",
       "      <td>20180628</td>\n",
       "    </tr>\n",
       "    <tr>\n",
       "      <th>1</th>\n",
       "      <td>_095570</td>\n",
       "      <td>AJ네트웍스</td>\n",
       "      <td>사업보고서 (2017.12)</td>\n",
       "      <td>20180330003492</td>\n",
       "      <td>20180330</td>\n",
       "    </tr>\n",
       "    <tr>\n",
       "      <th>2</th>\n",
       "      <td>_068400</td>\n",
       "      <td>AJ렌터카</td>\n",
       "      <td>사업보고서 (2017.12)</td>\n",
       "      <td>20180329000766</td>\n",
       "      <td>20180329</td>\n",
       "    </tr>\n",
       "    <tr>\n",
       "      <th>3</th>\n",
       "      <td>_006840</td>\n",
       "      <td>AK홀딩스</td>\n",
       "      <td>사업보고서 (2017.12)</td>\n",
       "      <td>20180330002417</td>\n",
       "      <td>20180330</td>\n",
       "    </tr>\n",
       "    <tr>\n",
       "      <th>4</th>\n",
       "      <td>_054620</td>\n",
       "      <td>AP시스템</td>\n",
       "      <td>사업보고서 (2017.12)</td>\n",
       "      <td>20180402004758</td>\n",
       "      <td>20180402</td>\n",
       "    </tr>\n",
       "  </tbody>\n",
       "</table>\n",
       "</div>"
      ],
      "text/plain": [
       "      종목코드     기업명             보고서명            접수번호      접수일자\n",
       "0  _060310      3S  사업보고서 (2018.03)  20180628000160  20180628\n",
       "1  _095570  AJ네트웍스  사업보고서 (2017.12)  20180330003492  20180330\n",
       "2  _068400   AJ렌터카  사업보고서 (2017.12)  20180329000766  20180329\n",
       "3  _006840   AK홀딩스  사업보고서 (2017.12)  20180330002417  20180330\n",
       "4  _054620   AP시스템  사업보고서 (2017.12)  20180402004758  20180402"
      ]
     },
     "execution_count": 44,
     "metadata": {},
     "output_type": "execute_result"
    }
   ],
   "source": [
    "latest_disclosures.head()"
   ]
  },
  {
   "cell_type": "code",
   "execution_count": 45,
   "metadata": {
    "collapsed": true
   },
   "outputs": [],
   "source": [
    "def getDocumentNumber(disclosure_df):\n",
    "    base = 'http://dart.fss.or.kr/dsaf001/main.do?rcpNo='\n",
    "    dcm_no = []\n",
    "    for index, row in tqdm(disclosure_df.iterrows()):\n",
    "        url = base + row.접수번호\n",
    "        r = requests.post(url)\n",
    "        time.sleep(np.random.randint(1,300)/100)\n",
    "        soup = BeautifulSoup(r.text,'lxml')\n",
    "        time.sleep(np.random.randint(1,300)/100)\n",
    "        dn = str(soup.find_all(href='#download')).split('openPdfDownload')[1].split(';')[0].split(',')[1].split(')')[0].split()[0][1:-1]\n",
    "        dcm_no.append(dn)\n",
    "    disclosure_df['문서번호'] = dcm_no\n",
    "    return"
   ]
  },
  {
   "cell_type": "code",
   "execution_count": 46,
   "metadata": {},
   "outputs": [
    {
     "name": "stderr",
     "output_type": "stream",
     "text": [
      "\n",
      "0it [00:00, ?it/s]\u001b[A\n",
      "1it [00:01,  1.34s/it]\u001b[A\n",
      "2it [00:02,  1.18s/it]\u001b[A\n",
      "Exception in thread Thread-6:\n",
      "Traceback (most recent call last):\n",
      "  File \"/home/jin/anaconda3/lib/python3.6/threading.py\", line 916, in _bootstrap_inner\n",
      "    self.run()\n",
      "  File \"/home/jin/anaconda3/lib/python3.6/site-packages/tqdm/_monitor.py\", line 62, in run\n",
      "    for instance in self.tqdm_cls._instances:\n",
      "  File \"/home/jin/anaconda3/lib/python3.6/_weakrefset.py\", line 60, in __iter__\n",
      "    for itemref in self.data:\n",
      "RuntimeError: Set changed size during iteration\n",
      "\n",
      "2119it [1:48:53,  3.08s/it]\n"
     ]
    }
   ],
   "source": [
    "getDocumentNumber(latest_disclosures)"
   ]
  },
  {
   "cell_type": "code",
   "execution_count": 47,
   "metadata": {},
   "outputs": [
    {
     "data": {
      "text/html": [
       "<div>\n",
       "<style>\n",
       "    .dataframe thead tr:only-child th {\n",
       "        text-align: right;\n",
       "    }\n",
       "\n",
       "    .dataframe thead th {\n",
       "        text-align: left;\n",
       "    }\n",
       "\n",
       "    .dataframe tbody tr th {\n",
       "        vertical-align: top;\n",
       "    }\n",
       "</style>\n",
       "<table border=\"1\" class=\"dataframe\">\n",
       "  <thead>\n",
       "    <tr style=\"text-align: right;\">\n",
       "      <th></th>\n",
       "      <th>종목코드</th>\n",
       "      <th>기업명</th>\n",
       "      <th>보고서명</th>\n",
       "      <th>접수번호</th>\n",
       "      <th>접수일자</th>\n",
       "      <th>문서번호</th>\n",
       "    </tr>\n",
       "  </thead>\n",
       "  <tbody>\n",
       "    <tr>\n",
       "      <th>0</th>\n",
       "      <td>_060310</td>\n",
       "      <td>3S</td>\n",
       "      <td>사업보고서 (2018.03)</td>\n",
       "      <td>20180628000160</td>\n",
       "      <td>20180628</td>\n",
       "      <td>6231042</td>\n",
       "    </tr>\n",
       "    <tr>\n",
       "      <th>1</th>\n",
       "      <td>_095570</td>\n",
       "      <td>AJ네트웍스</td>\n",
       "      <td>사업보고서 (2017.12)</td>\n",
       "      <td>20180330003492</td>\n",
       "      <td>20180330</td>\n",
       "      <td>6040642</td>\n",
       "    </tr>\n",
       "    <tr>\n",
       "      <th>2</th>\n",
       "      <td>_068400</td>\n",
       "      <td>AJ렌터카</td>\n",
       "      <td>사업보고서 (2017.12)</td>\n",
       "      <td>20180329000766</td>\n",
       "      <td>20180329</td>\n",
       "      <td>6025677</td>\n",
       "    </tr>\n",
       "    <tr>\n",
       "      <th>3</th>\n",
       "      <td>_006840</td>\n",
       "      <td>AK홀딩스</td>\n",
       "      <td>사업보고서 (2017.12)</td>\n",
       "      <td>20180330002417</td>\n",
       "      <td>20180330</td>\n",
       "      <td>6036212</td>\n",
       "    </tr>\n",
       "    <tr>\n",
       "      <th>4</th>\n",
       "      <td>_054620</td>\n",
       "      <td>AP시스템</td>\n",
       "      <td>사업보고서 (2017.12)</td>\n",
       "      <td>20180402004758</td>\n",
       "      <td>20180402</td>\n",
       "      <td>6059222</td>\n",
       "    </tr>\n",
       "  </tbody>\n",
       "</table>\n",
       "</div>"
      ],
      "text/plain": [
       "      종목코드     기업명             보고서명            접수번호      접수일자     문서번호\n",
       "0  _060310      3S  사업보고서 (2018.03)  20180628000160  20180628  6231042\n",
       "1  _095570  AJ네트웍스  사업보고서 (2017.12)  20180330003492  20180330  6040642\n",
       "2  _068400   AJ렌터카  사업보고서 (2017.12)  20180329000766  20180329  6025677\n",
       "3  _006840   AK홀딩스  사업보고서 (2017.12)  20180330002417  20180330  6036212\n",
       "4  _054620   AP시스템  사업보고서 (2017.12)  20180402004758  20180402  6059222"
      ]
     },
     "execution_count": 47,
     "metadata": {},
     "output_type": "execute_result"
    }
   ],
   "source": [
    "latest_disclosures.head()"
   ]
  },
  {
   "cell_type": "code",
   "execution_count": 48,
   "metadata": {
    "collapsed": true
   },
   "outputs": [],
   "source": [
    "def getDownloadLink(disclosure_df):\n",
    "    base_pdf = 'http://dart.fss.or.kr/pdf/download/pdf.do?'\n",
    "    base_xls = 'http://dart.fss.or.kr/pdf/download/excel.do?'\n",
    "\n",
    "    pdf = []\n",
    "    excel = []\n",
    "    for index, row in tqdm(disclosure_df.iterrows()):\n",
    "        rcp_no = row.접수번호\n",
    "        dcm_no = row.문서번호\n",
    "        \n",
    "        pdf_link = base_pdf + 'rcp_no=' + rcp_no + '&dcm_no=' + dcm_no\n",
    "        xls_link = base_xls + 'rcp_no=' + rcp_no + '&dcm_no=' + dcm_no\n",
    "        \n",
    "        pdf.append(pdf_link)\n",
    "        excel.append(xls_link)\n",
    "    \n",
    "    disclosure_df['보고서링크'] = pdf\n",
    "    disclosure_df['재무제표링크'] = excel\n",
    "    return"
   ]
  },
  {
   "cell_type": "code",
   "execution_count": 49,
   "metadata": {},
   "outputs": [
    {
     "name": "stderr",
     "output_type": "stream",
     "text": [
      "2119it [00:00, 7976.06it/s]\n"
     ]
    }
   ],
   "source": [
    "getDownloadLink(latest_disclosures)"
   ]
  },
  {
   "cell_type": "code",
   "execution_count": 50,
   "metadata": {
    "collapsed": true
   },
   "outputs": [],
   "source": [
    "latest_disclosures.to_csv(r'latest_disclosures_KOSPI_170102.csv',index=False, encoding='utf8')"
   ]
  },
  {
   "cell_type": "code",
   "execution_count": 51,
   "metadata": {
    "collapsed": true
   },
   "outputs": [],
   "source": [
    "latest_disclosures.to_csv(r'latest_disclosures_KOSPI_170102.csv',index=False, encoding='utf8')"
   ]
  },
  {
   "cell_type": "code",
   "execution_count": null,
   "metadata": {
    "collapsed": true
   },
   "outputs": [],
   "source": []
  }
 ],
 "metadata": {
  "kernelspec": {
   "display_name": "Python 3",
   "language": "python",
   "name": "python3"
  },
  "language_info": {
   "codemirror_mode": {
    "name": "ipython",
    "version": 3
   },
   "file_extension": ".py",
   "mimetype": "text/x-python",
   "name": "python",
   "nbconvert_exporter": "python",
   "pygments_lexer": "ipython3",
   "version": "3.7.6"
  }
 },
 "nbformat": 4,
 "nbformat_minor": 2
}
